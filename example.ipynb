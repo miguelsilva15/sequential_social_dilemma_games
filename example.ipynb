{
 "cells": [
  {
   "cell_type": "code",
   "execution_count": null,
   "metadata": {},
   "outputs": [],
   "source": [
    "!pip install SuperSuit\n",
    "!pip install ray[rllib]==0.8.5\n",
    "!pip install lz4\n",
    "!pip install opencv-python>=3.4\n",
    "!pip install dm_tree\n",
    "!pip install stable-baselines3\n",
    "!pip install pettingzoo\n",
    "!pip install sb3-contrib\n",
    "!pip install gym==0.23.1\n",
    "!pip install wandb"
   ]
  },
  {
   "cell_type": "code",
   "execution_count": 1,
   "metadata": {},
   "outputs": [],
   "source": [
    "import numpy as np\n",
    "\n",
    "from social_dilemmas.envs.pettingzoo_env import MAX_CYCLES\n",
    "from social_dilemmas.envs.pettingzoo_env import env as aec_env\n",
    "from social_dilemmas.envs.pettingzoo_env import parallel_env\n",
    "from pettingzoo.test import parallel_api_test"
   ]
  },
  {
   "cell_type": "code",
   "execution_count": 2,
   "metadata": {},
   "outputs": [],
   "source": [
    "def show_state(env, img, cummulative_reward, step=0, info=\"\"):\n",
    "    img.set_data(env.render(mode='rgb_array'))\n",
    "    plt.title(\"%s | Step: %d %s | Reward: %r\" % (env.metadata['name'],step, info, cummulative_reward))\n",
    "    plt.axis('off')\n",
    "    display.display(plt.gcf())\n",
    "    display.clear_output(wait=True)"
   ]
  },
  {
   "cell_type": "code",
   "execution_count": 3,
   "metadata": {},
   "outputs": [],
   "source": [
    "import matplotlib.pyplot as plt\n",
    "\n",
    "from IPython import display\n",
    "from random import randint\n",
    "\n",
    "\n",
    "env = aec_env(env = \"harvest\", num_agents = 2, proportion=0.5)\n",
    "env.reset()\n",
    "n_act = env.action_space(env.agents[0]).n\n",
    "img = plt.imshow(env.render(mode='rgb_array'))\n",
    "counter = 0\n",
    "cummulative_reward = 0\n",
    "for agent in env.agent_iter(1000):\n",
    "    counter += 1\n",
    "    obs, reward, done, info = env.last()        \n",
    "    cummulative_reward += reward\n",
    "    action = randint(0,n_act-1) if not done else None\n",
    "    env.step(action)\n",
    "    # show_state(env, img, cummulative_reward, counter)\n",
    "    break"
   ]
  },
  {
   "cell_type": "code",
   "execution_count": null,
   "metadata": {},
   "outputs": [],
   "source": [
    "import matplotlib.pyplot as plt\n",
    "\n",
    "img = plt.imshow(obs)"
   ]
  },
  {
   "cell_type": "code",
   "execution_count": null,
   "metadata": {},
   "outputs": [],
   "source": [
    "for agent in env.agent_iter(MAX_CYCLES * env.num_agents):\n",
    "    _,_,done,_ = env.last()\n",
    "    action = randint(0,n_act-1) if not done else None\n",
    "    env.step(action)\n",
    "    if not env.agents:\n",
    "        env.reset()\n",
    "# api_test(env, MAX_CYCLES)"
   ]
  },
  {
   "cell_type": "code",
   "execution_count": null,
   "metadata": {},
   "outputs": [],
   "source": [
    "env = parallel_env(max_cycles=MAX_CYCLES, env = \"harvest\", num_agents = 2, proportion=.5)\n",
    "env.reset()\n",
    "n_act = env.action_space(env.agents[0]).n\n",
    "for _ in range(MAX_CYCLES * env.num_agents):\n",
    "    actions = {agent: np.random.randint(n_act) for agent in env.agents}\n",
    "    _, _, _, _ = env.step(actions)\n",
    "    if not env.agents:\n",
    "        _ = env.reset()\n",
    "parallel_api_test(env, MAX_CYCLES)"
   ]
  },
  {
   "cell_type": "code",
   "execution_count": null,
   "metadata": {},
   "outputs": [],
   "source": [
    "from stable_baselines3.ppo import CnnPolicy, MlpPolicy\n",
    "from stable_baselines3 import A2C\n",
    "import supersuit as ss\n",
    "import wandb\n",
    "\n",
    "wandb.login()"
   ]
  },
  {
   "cell_type": "code",
   "execution_count": null,
   "metadata": {},
   "outputs": [],
   "source": [
    "from stable_baselines3.common.vec_env import VecMonitor\n",
    "\n",
    "num_agents = 2\n",
    "number_of_envs = 8\n",
    "env = parallel_env(max_cycles=MAX_CYCLES, env = \"harvest\", num_agents = num_agents, proportion=.5)\n",
    "\n",
    "# env = ss.color_reduction_v0(env, mode=\"full\")\n",
    "# env = ss.resize_v1(env, x_size=60, y_size=60)\n",
    "env = ss.frame_stack_v1(env, 1)\n",
    "env = ss.pettingzoo_env_to_vec_env_v1(env)\n",
    "\n",
    "env = ss.concat_vec_envs_v1(env, number_of_envs, num_cpus=4, base_class=\"stable_baselines3\")\n",
    "env = VecMonitor(env, info_keywords=('Utilitarian',), filename='logs/')\n",
    "\n",
    "model = A2C(\n",
    "    MlpPolicy,\n",
    "    env,\n",
    "    verbose=3,\n",
    "    tensorboard_log=\"runs/A2C\")"
   ]
  },
  {
   "cell_type": "code",
   "execution_count": null,
   "metadata": {},
   "outputs": [],
   "source": [
    "wandb.init(\n",
    "    name=\"A2C\",\n",
    "    project=\"sb3\",\n",
    "    config={\"policy_type\": \"MlpPolicy\", \"total_timesteps\": 600_000},\n",
    "    sync_tensorboard=True,  # auto-upload sb3's tensorboard metrics\n",
    "    monitor_gym=False,  # auto-upload the videos of agents playing the game\n",
    ")"
   ]
  },
  {
   "cell_type": "code",
   "execution_count": 3,
   "metadata": {},
   "outputs": [],
   "source": [
    "from wandb.integration.sb3 import WandbCallback\n",
    "\n",
    "class UtilitarianCallBack(WandbCallback):\n",
    "    def __init__(self, verbose=0):\n",
    "        super(UtilitarianCallBack, self).__init__(verbose)\n",
    "    def _on_training_start(self):\n",
    "        self._log_freq = 1000  # log every 200 calls\n",
    "    def _on_step(self) -> bool:\n",
    "        if self.n_calls % self._log_freq == 0:\n",
    "            uti = sum(item['Utilitarian'] for item in self.locals['infos'])/(number_of_envs*num_agents) # <- number of env running at the same time, number of agents\n",
    "            eq = sum(item['Equality'] for item in self.locals['infos'])/(number_of_envs*num_agents)\n",
    "            sus = sum(item['Sustainability'] for item in self.locals['infos'])/(number_of_envs*num_agents)\n",
    "            self.logger.record('custom/utilitarian', uti)\n",
    "            self.logger.record('custom/equality', eq)\n",
    "            self.logger.record('custom/sustainability', sus)\n",
    "        return True"
   ]
  },
  {
   "cell_type": "code",
   "execution_count": 2,
   "metadata": {},
   "outputs": [
    {
     "name": "stderr",
     "output_type": "stream",
     "text": [
      "/home/miguel/anaconda3/envs/social/lib/python3.7/site-packages/torch/utils/tensorboard/__init__.py:4: DeprecationWarning: distutils Version classes are deprecated. Use packaging.version instead.\n",
      "  if not hasattr(tensorboard, '__version__') or LooseVersion(tensorboard.__version__) < LooseVersion('1.15'):\n"
     ]
    },
    {
     "ename": "NameError",
     "evalue": "name 'model' is not defined",
     "output_type": "error",
     "traceback": [
      "\u001b[0;31m---------------------------------------------------------------------------\u001b[0m",
      "\u001b[0;31mNameError\u001b[0m                                 Traceback (most recent call last)",
      "\u001b[0;32m/tmp/ipykernel_1617/2648240314.py\u001b[0m in \u001b[0;36m<module>\u001b[0;34m\u001b[0m\n\u001b[1;32m      1\u001b[0m \u001b[0;32mfrom\u001b[0m \u001b[0mwandb\u001b[0m\u001b[0;34m.\u001b[0m\u001b[0mintegration\u001b[0m\u001b[0;34m.\u001b[0m\u001b[0msb3\u001b[0m \u001b[0;32mimport\u001b[0m \u001b[0mWandbCallback\u001b[0m\u001b[0;34m\u001b[0m\u001b[0;34m\u001b[0m\u001b[0m\n\u001b[1;32m      2\u001b[0m \u001b[0;34m\u001b[0m\u001b[0m\n\u001b[0;32m----> 3\u001b[0;31m model.learn(total_timesteps=1000000,     \n\u001b[0m\u001b[1;32m      4\u001b[0m             callback=WandbCallback(\n\u001b[1;32m      5\u001b[0m             \u001b[0mgradient_save_freq\u001b[0m\u001b[0;34m=\u001b[0m\u001b[0;36m100\u001b[0m\u001b[0;34m,\u001b[0m\u001b[0;34m\u001b[0m\u001b[0;34m\u001b[0m\u001b[0m\n",
      "\u001b[0;31mNameError\u001b[0m: name 'model' is not defined"
     ]
    }
   ],
   "source": [
    "model.learn(total_timesteps=600_000,     \n",
    "            callback=UtilitarianCallBack())"
   ]
  },
  {
   "cell_type": "code",
   "execution_count": null,
   "metadata": {},
   "outputs": [],
   "source": [
    "model.save(\"policy\")"
   ]
  },
  {
   "cell_type": "code",
   "execution_count": null,
   "metadata": {},
   "outputs": [],
   "source": [
    "from matplotlib import animation\n",
    "\n",
    "def save_frames_as_gif(frames, path='./', filename='gym_animation.gif'):\n",
    "    #Mess with this to change frame size\n",
    "    plt.figure(figsize=(frames[0].shape[1], frames[0].shape[0]))\n",
    "\n",
    "    patch = plt.imshow(frames[0])\n",
    "    plt.axis('off')\n",
    "\n",
    "    def animate(i):\n",
    "        patch.set_data(frames[i])\n",
    "\n",
    "    anim = animation.FuncAnimation(plt.gcf(), animate, frames = len(frames), interval=50)\n",
    "    anim.save(path + filename, writer='imagemagick', fps=60)"
   ]
  },
  {
   "cell_type": "code",
   "execution_count": null,
   "metadata": {},
   "outputs": [],
   "source": [
    "env = aec_env(env = \"harvest\", num_agents = 2, proportion=.5)\n",
    "# env = ss.color_reduction_v0(env, mode=\"full\")\n",
    "# env = ss.resize_v1(env, x_size=60, y_size=60)\n",
    "env = ss.frame_stack_v1(env, 1)\n",
    "model = A2C.load(\"policy\")"
   ]
  },
  {
   "cell_type": "code",
   "execution_count": null,
   "metadata": {},
   "outputs": [],
   "source": [
    "import matplotlib.pyplot as plt\n",
    "\n",
    "from IPython import display\n",
    "from random import randint\n",
    "\n",
    "\n",
    "env.reset()\n",
    "img = plt.imshow(env.render(mode='rgb_array'))\n",
    "counter = 0\n",
    "cummulative_reward = 0\n",
    "\n",
    "for agent in env.agent_iter(1000):\n",
    "    counter += 1\n",
    "    obs, reward, done, info = env.last()        \n",
    "    cummulative_reward += reward\n",
    "    action = model.predict(obs, deterministic=True)[0] if not done else None\n",
    "    env.step(action)\n",
    "    show_state(env, img, cummulative_reward, counter)"
   ]
  },
  {
   "cell_type": "code",
   "execution_count": null,
   "metadata": {},
   "outputs": [],
   "source": [
    "img = plt.imshow(obs)"
   ]
  }
 ],
 "metadata": {
  "interpreter": {
   "hash": "1c54f4e1905cd32010bf341b03818db875e58910116369b81e2031cacd9a8002"
  },
  "kernelspec": {
   "display_name": "Python 3.7.12 ('social')",
   "language": "python",
   "name": "python3"
  },
  "language_info": {
   "codemirror_mode": {
    "name": "ipython",
    "version": 3
   },
   "file_extension": ".py",
   "mimetype": "text/x-python",
   "name": "python",
   "nbconvert_exporter": "python",
   "pygments_lexer": "ipython3",
   "version": "3.7.12"
  },
  "orig_nbformat": 4,
  "vscode": {
   "interpreter": {
    "hash": "1c54f4e1905cd32010bf341b03818db875e58910116369b81e2031cacd9a8002"
   }
  }
 },
 "nbformat": 4,
 "nbformat_minor": 2
}
