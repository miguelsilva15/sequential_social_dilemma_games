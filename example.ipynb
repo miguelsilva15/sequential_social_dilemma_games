{
 "cells": [
  {
   "cell_type": "code",
   "execution_count": 1,
   "metadata": {},
   "outputs": [],
   "source": [
    "import numpy as np\n",
    "\n",
    "from social_dilemmas.envs.pettingzoo_env import MAX_CYCLES\n",
    "from social_dilemmas.envs.pettingzoo_env import env as aec_env\n",
    "from social_dilemmas.envs.pettingzoo_env import parallel_env\n",
    "from pettingzoo.test import api_test, parallel_api_test"
   ]
  },
  {
   "cell_type": "code",
   "execution_count": 2,
   "metadata": {},
   "outputs": [],
   "source": [
    "env = aec_env(env = \"harvest\", num_agents = 10, proportion=0.7)\n",
    "env.reset()\n",
    "n_act = env.action_space(env.agents[0]).n"
   ]
  },
  {
   "cell_type": "code",
   "execution_count": 3,
   "metadata": {},
   "outputs": [],
   "source": [
    "def show_state(env, img, cummulative_reward, step=0, info=\"\"):\n",
    "    img.set_data(env.render(mode='rgb_array'))\n",
    "    plt.title(\"%s | Step: %d %s | Reward: %r\" % (env.metadata['name'],step, info, cummulative_reward))\n",
    "    plt.axis('off')\n",
    "    display.display(plt.gcf())\n",
    "    display.clear_output(wait=True)"
   ]
  },
  {
   "cell_type": "code",
   "execution_count": 4,
   "metadata": {},
   "outputs": [
    {
     "data": {
      "image/png": "[encoded data removed]",
      "text/plain": [
       "<Figure size 432x288 with 1 Axes>"
      ]
     },
     "metadata": {
      "needs_background": "light"
     },
     "output_type": "display_data"
    }
   ],
   "source": [
    "import matplotlib.pyplot as plt\n",
    "\n",
    "from IPython import display\n",
    "from random import randint\n",
    "\n",
    "img = plt.imshow(env.render(mode='rgb_array'))\n",
    "counter = 0\n",
    "cummulative_reward = 0\n",
    "for agent in env.agent_iter(500):\n",
    "    counter += 1\n",
    "    obs, reward, done, info = env.last()        \n",
    "    cummulative_reward += reward\n",
    "    action = randint(0,n_act-1) if not done else None\n",
    "    env.step(action)\n",
    "    show_state(env, img, cummulative_reward, counter)"
   ]
  },
  {
   "cell_type": "code",
   "execution_count": null,
   "metadata": {},
   "outputs": [],
   "source": [
    "obs"
   ]
  },
  {
   "cell_type": "code",
   "execution_count": null,
   "metadata": {},
   "outputs": [],
   "source": [
    "for agent in env.agent_iter(MAX_CYCLES * env.num_agents):\n",
    "    env.last()\n",
    "    action = np.random.randint(n_act)\n",
    "    env.step(action)\n",
    "    if not env.agents:\n",
    "        env.reset()\n",
    "api_test(env, MAX_CYCLES)"
   ]
  },
  {
   "cell_type": "code",
   "execution_count": null,
   "metadata": {},
   "outputs": [],
   "source": [
    "env = parallel_env(max_cycles=MAX_CYCLES, env=\"harvest\", num_agents=2)\n",
    "env.reset()\n",
    "n_act = env.action_space(\"agent-0\").n\n",
    "for _ in range(MAX_CYCLES * env.num_agents):\n",
    "    actions = {agent: np.random.randint(n_act) for agent in env.agents}\n",
    "    _, _, _, _ = env.step(actions)\n",
    "    if not env.agents:\n",
    "        _ = env.reset()\n",
    "parallel_api_test(env, MAX_CYCLES)"
   ]
  },
  {
   "cell_type": "code",
   "execution_count": null,
   "metadata": {},
   "outputs": [],
   "source": [
    "env = parallel_env(max_cycles=MAX_CYCLES, env=\"harvest\", num_agents=2)"
   ]
  },
  {
   "cell_type": "code",
   "execution_count": null,
   "metadata": {},
   "outputs": [],
   "source": [
    "from stable_baselines3.ppo import CnnPolicy\n",
    "from stable_baselines3 import PPO\n",
    "import supersuit as ss"
   ]
  },
  {
   "cell_type": "code",
   "execution_count": null,
   "metadata": {},
   "outputs": [],
   "source": [
    "env = parallel_env(max_cycles=MAX_CYCLES, env=\"harvest\", num_agents=2)"
   ]
  },
  {
   "cell_type": "code",
   "execution_count": null,
   "metadata": {},
   "outputs": [],
   "source": [
    "env = parallel_env(max_cycles=MAX_CYCLES, env=\"harvest\", num_agents=2)\n",
    "\n",
    "# env = ss.color_reduction_v0(env, mode=\"B\")\n",
    "env = ss.resize_v1(env, x_size=84, y_size=84)\n",
    "env = ss.frame_stack_v1(env, 3)\n",
    "env = ss.pettingzoo_env_to_vec_env_v1(env)\n",
    "env = ss.concat_vec_envs_v1(env, 8, num_cpus=4, base_class=\"stable_baselines3\")\n",
    "\n",
    "model = PPO(\n",
    "    CnnPolicy,\n",
    "    env,\n",
    "    verbose=3,\n",
    "    n_steps=256)"
   ]
  },
  {
   "cell_type": "code",
   "execution_count": null,
   "metadata": {},
   "outputs": [],
   "source": [
    "model.learn(total_timesteps=1000)"
   ]
  },
  {
   "cell_type": "code",
   "execution_count": null,
   "metadata": {},
   "outputs": [],
   "source": []
  }
 ],
 "metadata": {
  "interpreter": {
   "hash": "1c54f4e1905cd32010bf341b03818db875e58910116369b81e2031cacd9a8002"
  },
  "kernelspec": {
   "display_name": "Python 3.7.12 ('social')",
   "language": "python",
   "name": "python3"
  },
  "language_info": {
   "codemirror_mode": {
    "name": "ipython",
    "version": 3
   },
   "file_extension": ".py",
   "mimetype": "text/x-python",
   "name": "python",
   "nbconvert_exporter": "python",
   "pygments_lexer": "ipython3",
   "version": "3.7.12"
  },
  "orig_nbformat": 4,
  "vscode": {
   "interpreter": {
    "hash": "1c54f4e1905cd32010bf341b03818db875e58910116369b81e2031cacd9a8002"
   }
  }
 },
 "nbformat": 4,
 "nbformat_minor": 2
}
