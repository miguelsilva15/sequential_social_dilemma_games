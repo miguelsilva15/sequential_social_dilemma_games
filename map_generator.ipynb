{
 "cells": [
  {
   "cell_type": "code",
   "execution_count": 1,
   "metadata": {},
   "outputs": [],
   "source": [
    "import random\n",
    "import numpy as np\n",
    "\n",
    "\n",
    "from social_dilemmas.envs.generate_map import reverse_map_to_list\n",
    "\n",
    "\n",
    "def generate_character(map_list, character='P', num=1, x=10, y=10, padding=4, possible_positions=None):\n",
    "    indexes = []\n",
    "    temp_map_list = map_list.copy()\n",
    "    if possible_positions:\n",
    "        for i in range(num):\n",
    "            x_random_index, y_random_index = random.choice(possible_positions)\n",
    "            row = list(temp_map_list[x_random_index])\n",
    "            row[y_random_index] = character\n",
    "            str1 = ''.join(row)\n",
    "            temp_map_list[x_random_index] = str1\n",
    "            indexes.append((x_random_index, y_random_index))\n",
    "    else:\n",
    "        character_counter = 0\n",
    "        while True:\n",
    "            x_random_index = random.randint(0+padding, y+padding+1)\n",
    "            y_random_index = random.randint(0+padding, x+padding+1)\n",
    "            if temp_map_list[x_random_index][y_random_index] == ' ':\n",
    "                row = list(temp_map_list[x_random_index])\n",
    "                row[y_random_index] = character\n",
    "                str1 = ''.join(row)\n",
    "                temp_map_list[x_random_index] = str1\n",
    "                character_counter += 1\n",
    "                indexes.append((x_random_index, y_random_index))\n",
    "            if character_counter == num:\n",
    "                break\n",
    "    return temp_map_list, indexes\n",
    "\n",
    "\n",
    "def create_map(num_agents_orange=1, num_agents_apples=1, num_apples = 1, num_oranges = 1, x = 10, y = 10, distance=2, seed=None, existing_map=None):\n",
    "    # TODO: add existing map funcionality\n",
    "    if seed:\n",
    "      random.seed(666)\n",
    "    if existing_map is not None: \n",
    "        map_list = reverse_map_to_list(existing_map)\n",
    "    else:\n",
    "        map_list = []\n",
    "        map_list.append('@'*(x+8))\n",
    "        map_list.append('@'*(x+8))\n",
    "        map_list.append('@'*(x+8))\n",
    "        map_list.append('@'*(x+8))\n",
    "        for i in range(y):\n",
    "            map_list.append('@@@@'+' '*(x)+'@@@@')\n",
    "        map_list.append('@'*(x+8))\n",
    "        map_list.append('@'*(x+8))\n",
    "        map_list.append('@'*(x+8))\n",
    "        map_list.append('@'*(x+8))\n",
    "        map_list, _ = generate_character(map_list, character='L', num=num_agents_orange, x=x, y=y)\n",
    "        map_list, _ = generate_character(map_list, character='P', num=num_agents_apples, x=x, y=y)\n",
    "        map_list, list_appls = generate_character(map_list, character='A', num=num_apples, x=x, y=y)\n",
    "        map_list, list_orang = generate_character(map_list, character='O', num=num_oranges, x=x, y=y)\n",
    "    return map_list \n",
    "\n",
    "def ascii_to_numpy(ascii_list):\n",
    "    \"\"\"converts a list of strings into a numpy array\n",
    "\n",
    "\n",
    "    Parameters\n",
    "    ----------\n",
    "    ascii_list: list of strings\n",
    "        List describing what the map should look like\n",
    "    Returns\n",
    "    -------\n",
    "    arr: np.ndarray\n",
    "        numpy array describing the map with ' ' indicating an empty space\n",
    "    \"\"\"\n",
    "\n",
    "    arr = np.full((len(ascii_list), len(ascii_list[0])), b\" \", dtype=\"c\")\n",
    "    for row in range(arr.shape[0]):\n",
    "        for col in range(arr.shape[1]):\n",
    "            arr[row, col] = ascii_list[row][col]\n",
    "    return arr"
   ]
  },
  {
   "cell_type": "code",
   "execution_count": 2,
   "metadata": {},
   "outputs": [
    {
     "data": {
      "text/plain": [
       "['@@@@@@@@@@@@@@@@@@@@@@@@@@@@@@@@@@@@@@@@@@@@',\n",
       " '@@@@@@@@@@@@@@@@@@@@@@@@@@@@@@@@@@@@@@@@@@@@',\n",
       " '@@@@@@@@@@@@@@@@@@@@@@@@@@@@@@@@@@@@@@@@@@@@',\n",
       " '@@@@@@@@@@@@@@@@@@@@@@@@@@@@@@@@@@@@@@@@@@@@',\n",
       " '@@@@     AA        P    A    O   P   O  @@@@',\n",
       " '@@@@       A         O    L O P  O      @@@@',\n",
       " '@@@@   O     A     O    A           O   @@@@',\n",
       " '@@@@      O  O A  P      LP             @@@@',\n",
       " '@@@@      P P     A   P O  P          P @@@@',\n",
       " '@@@@A    O      A  AO      P  A A    O  @@@@',\n",
       " '@@@@    A    L  P      AA       L     OO@@@@',\n",
       " '@@@@LA     O L             O            @@@@',\n",
       " '@@@@       A       P                 L  @@@@',\n",
       " '@@@@               AL    A     O      P @@@@',\n",
       " '@@@@    A      L                     O  @@@@',\n",
       " '@@@@    A AO   O      O A           P   @@@@',\n",
       " '@@@@    A    O       O           O   L  @@@@',\n",
       " '@@@@ O   O    L A        A O            @@@@',\n",
       " '@@@@ LL  L       O       LA   A  A      @@@@',\n",
       " '@@@@@@@@@@@@@@@@@@@@@@@@@@@@@@@@@@@@@@@@@@@@',\n",
       " '@@@@@@@@@@@@@@@@@@@@@@@@@@@@@@@@@@@@@@@@@@@@',\n",
       " '@@@@@@@@@@@@@@@@@@@@@@@@@@@@@@@@@@@@@@@@@@@@',\n",
       " '@@@@@@@@@@@@@@@@@@@@@@@@@@@@@@@@@@@@@@@@@@@@']"
      ]
     },
     "execution_count": 2,
     "metadata": {},
     "output_type": "execute_result"
    }
   ],
   "source": [
    "# def_map = create_map(x=36, y= 15, num_apples=80, num_oranges=80, num_agents_apples=15, num_agents_orange=15)\n",
    "create_map(x=36, y= 15, num_apples=30, num_oranges=30, num_agents_apples=15, num_agents_orange=15)"
   ]
  },
  {
   "cell_type": "code",
   "execution_count": null,
   "metadata": {},
   "outputs": [],
   "source": []
  }
 ],
 "metadata": {
  "kernelspec": {
   "display_name": "Python 3.7.12 ('social')",
   "language": "python",
   "name": "python3"
  },
  "language_info": {
   "codemirror_mode": {
    "name": "ipython",
    "version": 3
   },
   "file_extension": ".py",
   "mimetype": "text/x-python",
   "name": "python",
   "nbconvert_exporter": "python",
   "pygments_lexer": "ipython3",
   "version": "3.7.12"
  },
  "orig_nbformat": 4,
  "vscode": {
   "interpreter": {
    "hash": "1c54f4e1905cd32010bf341b03818db875e58910116369b81e2031cacd9a8002"
   }
  }
 },
 "nbformat": 4,
 "nbformat_minor": 2
}
